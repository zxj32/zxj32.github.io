{
  "nbformat": 4,
  "nbformat_minor": 0,
  "metadata": {
    "colab": {
      "name": "EDL_uncertainty_regularization.ipynb",
      "version": "0.3.2",
      "provenance": [],
      "collapsed_sections": [],
      "toc_visible": true
    },
    "kernelspec": {
      "name": "python3",
      "display_name": "Python 3"
    },
    "accelerator": "GPU"
  },
  "cells": [
    {
      "cell_type": "markdown",
      "metadata": {
        "id": "-ZzktXBGXY_b",
        "colab_type": "text"
      },
      "source": [
        "# AAAI 2019 FALL SYMPOSIUM"
      ]
    },
    {
      "cell_type": "markdown",
      "metadata": {
        "colab_type": "text",
        "id": "JGndWTeOqc7K"
      },
      "source": [
        "### ### Quantifying Classification Uncertainty using Regularized Evidential Neural Networks\n",
        "### Xujiang Zhao\n",
        "### Yuzhe Ou"
      ]
    },
    {
      "cell_type": "markdown",
      "metadata": {
        "id": "SvTWo1u6o8cP",
        "colab_type": "text"
      },
      "source": [
        "## Mathematical background"
      ]
    },
    {
      "cell_type": "markdown",
      "metadata": {
        "id": "n1vYcrGkqk0X",
        "colab_type": "text"
      },
      "source": [
        "Traditional deep neural nets (NNs) have shown the state-of-the-art performance in the task of classification in various applications. However, NNs have not considered any types of uncertainty associated with the class probabilities\n",
        "to minimize risk due to misclassification under uncertainty in real life. Unlike Bayesian neural nets indirectly infering uncertainty through weight uncertainties, evidential neural networks (ENNs) have been recently proposed to support explicit modeling of the uncertainty of class probabilities.  It treats predictions of an NN as subjective opinions and learns the function by collecting the evidence leading to these opinions by a deterministic NN from data. However, an ENN is trained as a black box without explicitly considering different types of inherent data uncertainty, such as vacuity (uncertainty due to a lack of evidence) or dissonance (uncertainty due to conflicting evidence). This paper presents a new approach, called a regularized ENN, that learns an ENN based on regularizations related to different characteristics of inherent data uncertainty. Via the experiments with both synthetic and real-world datasets, we demonstrate that the proposed regularized ENN can better learn of an ENN modeling different types of uncertainty in the class probabilities for classification tasks. "
      ]
    },
    {
      "cell_type": "markdown",
      "metadata": {
        "id": "n427qvhWqnr8",
        "colab_type": "text"
      },
      "source": [
        "### Theory of Evidence\n",
        "Suppose that there are $K$ outputs of an NN. Then we can write the following equality\n",
        "$$u + \\sum_{k = 1}^{K} b_k = 1$$\n",
        "where $b_k$ corresponds to $k^{th}$ ReLU output which will be interpreted as the *belief mass* of the $k^{th}$ class and $u$ is the *uncertainty mass* of the particular outputs.\n",
        "\n",
        "Each $b_k$ is defined as follows\n",
        "$$b_k =\\frac{e_k}{S}$$\n",
        "where $e_k$ is the evidence of the $k^{th}$ class and $S$ is the strength of the Dirichlet we'll use and defined as \n",
        "$$S = \\sum_{k = 1}^{K} (e_k + 1)$$\n",
        "which leaves $u$ the following portion\n",
        "$$u = \\frac{K}{S}$$\n",
        "\n",
        "\n",
        "Replacing $e_k + 1$ with $a_k$\n",
        "$$\\alpha_k = e_k + 1$$\n",
        "and using the resultant simplex vector $a$ in a Dirichlet as the density\n",
        "$$\n",
        "D(\\boldsymbol{p}|\\boldsymbol{\\alpha}) = \\begin{cases} \n",
        "      \\frac{1}{B(\\boldsymbol{\\alpha})} \\prod_{i=1}^{K} p_i^{\\alpha_i - 1} & \\text{for } \\boldsymbol{p} \\in \\mathcal{S}_K \\\\\n",
        "      0 & \\text{otherwise}\n",
        "   \\end{cases}\n",
        "$$\n",
        "\n",
        "As a result, we can define $\\mathcal{S}_K$ as \n",
        "$$\\mathcal{S}_K = \\{ \\boldsymbol{p} | \\sum_{i=1}^K p_i = 1 \\text{ and } 0 \\leq p_1,...,p_K \\leq 1 \\}$$\n",
        "and the probability of $k^{th}$ can still be calculated as\n",
        "$$\\hat{p}_k = \\frac{\\alpha_k}{S}$$"
      ]
    },
    {
      "cell_type": "markdown",
      "metadata": {
        "id": "kSp7UTYKtV9z",
        "colab_type": "text"
      },
      "source": [
        "### Loss Functions\n",
        "\n",
        "\n",
        "\n",
        "####  Using sum of squares loss - will be mentioned as *Eqn. 9* (as in the paper)\n",
        "\n",
        "$$\n",
        "\\mathcal{L}_i(\\Theta) =\n",
        "\\int ||\\boldsymbol{y}_i - \\boldsymbol{p}_i||_2^2 \\frac{1}{B(\\alpha_i)} \\prod_{j=1}^K p_{ij}^{\\alpha_{ij} -1 } d\\boldsymbol{p}_i \n",
        "= \\sum_{j=1}^K \\mathbb{E}[(y_{ij} - p_{ij})^2]\n",
        "$$\n",
        "\n",
        "$$\n",
        "= \\sum_{j=1}^K \\mathbb{E}[y_{ij}^2 - 2 y_{ij}p_{ij} + p_{ij}^2] \n",
        "= \\sum_{j=1}^K (y_{ij}^2 - 2 y_{ij}\\mathbb{E}[p_{ij}] + \\mathbb{E}[p_{ij}^2])\n",
        "$$\n",
        "\n",
        "$$\n",
        "= \\sum_{j=1}^K (y_{ij}^2 - 2 y_{ij}\\mathbb{E}[p_{ij}] + \\mathbb{E}[p_{ij}]^2 + \\text{Var}(p_{ij}))\n",
        "= \\sum_{j=1}^K (y_{ij} - \\mathbb{E}[p_{ij}])^2 + \\text{Var}(p_{ij})\n",
        "$$\n",
        "\n",
        "$$\n",
        "= \\sum_{j=1}^K (y_{ij}^2 - 2 y_{ij}\\mathbb{E}[p_{ij}] + \\mathbb{E}[p_{ij}]^2 + \\text{Var}(p_{ij}))\n",
        "= \\sum_{j=1}^K (y_{ij} - \\mathbb{E}[p_{ij}])^2 + \\text{Var}(p_{ij})\n",
        "$$\n",
        "\n",
        "$$\n",
        "= \\sum_{j=1}^K (y_{ij} - \\frac{\\alpha_{ij}}{S_i})^2 + \\frac{\\alpha_{ij}(S_i - \\alpha_{ij})}{S_i^2(S_i + 1)}\n",
        "$$\n",
        "\n",
        "$$\n",
        "= \\sum_{j=1}^K (y_{ij} - \\hat{p}_{ij})^2 + \\frac{\\hat{p}_{ij}(1 - \\hat{p}_{ij})}{(S_i + 1)}\n",
        "$$"
      ]
    },
    {
      "cell_type": "markdown",
      "metadata": {
        "id": "Pm9FrWhpu8Ok",
        "colab_type": "text"
      },
      "source": [
        "### Regularization with KL Divergence\n",
        "\n",
        "$$\n",
        "\\mathcal{L}(\\Theta) = \\sum_{i=1}^N \\mathcal{L}_i(\\Theta) + \\lambda_t \\sum_{i=1}^N KL[ D(\\boldsymbol{p}_i|\\boldsymbol{\\widetilde{\\alpha}}_i)||  D(\\boldsymbol{p}_i|\\langle 1,...,1 \\rangle )]\n",
        "$$\n",
        "\n",
        "where $\\lambda_t$ is annealed during the training by starting from 0 up to 1.\n",
        "\n",
        "After the derivations, KL term turns out to be in the following form\n",
        "$$\n",
        "KL[ D(\\boldsymbol{p}_i|\\boldsymbol{\\widetilde{\\alpha}}_i)||  D(\\boldsymbol{p}_i|\\langle 1,...,1 \\rangle )] = log(\\frac{\\Gamma(\\sum_{k=1}^K \\widetilde{\\alpha}_{ik})}{\\Gamma(K)\\prod_{k=1}^K\\Gamma(\\widetilde{\\alpha}_{ik})}) + \\sum_{k=1}^K (\\widetilde{\\alpha}_{ik} - 1) [\\psi(\\widetilde{\\alpha}_{ik}) - \\psi(\\sum_{k=1}^K \\widetilde{\\alpha}_{ik})]\n",
        "$$"
      ]
    },
    {
      "cell_type": "markdown",
      "metadata": {
        "id": "CoqFBVTlquea",
        "colab_type": "text"
      },
      "source": [
        "### Regularization with Vacuity uncertainty\n",
        "To improve the perfomance of out-of-distribution detection, we introduce the uncertainty regularization to object function.\n",
        "\n",
        "$$\n",
        "\\mathcal{L}(\\Theta) = \\mathbb{E}_{({\\bf x}_i, {\\bf y}_i) \\sim \\mathcal{D}}[\\mathcal{L}(f({\\bf x}_i|\\Theta), {\\bf y}_i) ] -\\nonumber \\\\\n",
        " \\lambda_1   \\mathbb{E}_{({\\bf x}_i, {\\bf y}_i) \\sim \\mathcal{D}_{\\text{OOD}}}[\\text{Vac}(f({\\bf x}_i|\\Theta))] - \\nonumber \\\\\n",
        " \\lambda_2   \\mathbb{E}_{({\\bf x}_i, {\\bf y}_i) \\sim \\mathcal{D}_{\\text{BOD}}}[\\text{Diss}(f({\\bf x}_i|\\Theta))],\n",
        "$$\n",
        "\n",
        "\n"
      ]
    },
    {
      "cell_type": "markdown",
      "metadata": {
        "id": "NKXIgieTv61Y",
        "colab_type": "text"
      },
      "source": [
        "## Code"
      ]
    },
    {
      "cell_type": "markdown",
      "metadata": {
        "id": "GqVmjwRGXu4B",
        "colab_type": "text"
      },
      "source": [
        "##### Import required libraries"
      ]
    },
    {
      "cell_type": "code",
      "metadata": {
        "id": "OuoA1kVmWnT3",
        "colab_type": "code",
        "colab": {}
      },
      "source": [
        "import tensorflow as tf\n",
        "from tensorflow.examples.tutorials.mnist.input_data import read_data_sets as mnist_data_downloader\n",
        "from tensorflow.keras.datasets.cifar10 import load_data as cifar_data_downloader\n",
        "\n",
        "import scipy.ndimage as nd\n",
        "import numpy as np\n",
        "from matplotlib import pyplot as plt\n",
        "import pylab as pl\n",
        "from IPython import display\n",
        "\n",
        "import scipy.stats\n",
        "import scipy.io"
      ],
      "execution_count": 0,
      "outputs": []
    },
    {
      "cell_type": "markdown",
      "metadata": {
        "id": "beLRC-JWZYN8",
        "colab_type": "text"
      },
      "source": [
        "##### Download datasets"
      ]
    },
    {
      "cell_type": "code",
      "metadata": {
        "id": "PU597FW9W7QA",
        "colab_type": "code",
        "colab": {}
      },
      "source": [
        "#get mnist dataset\n",
        "mnist = mnist_data_downloader('MNIST_data', one_hot=True)\n",
        "\n",
        "#get cifar dataset\n",
        "(cifar10_x_train, cifar10_y_train), (cifar10_x_test, cifar10_y_test) = cifar_data_downloader()\n",
        "cifar10_x_train = cifar10_x_train.reshape(50000, 32*32*3) / 255\n",
        "cifar10_y_train = cifar10_y_train.reshape(50000)\n",
        "cifar10_x_test = cifar10_x_test.reshape(10000, 32*32*3) / 255\n",
        "cifar10_y_test = cifar10_y_test.reshape(10000)\n",
        "\n",
        "cifar5_x_train = cifar10_x_train[cifar10_y_train<5,:]\n",
        "cifar5_y_train = cifar10_y_train[cifar10_y_train<5]\n",
        "\n",
        "cifar5_x_train_test = cifar10_x_test[cifar10_y_test<5,:]\n",
        "cifar5_y_train_test = cifar10_y_test[cifar10_y_test<5]\n",
        "\n",
        "cifar5_x_test = cifar10_x_train[cifar10_y_train>=5,:]\n",
        "cifar5_y_test = cifar10_y_train[cifar10_y_train>=5]\n",
        "\n",
        "cifar5_x_ood_train = cifar5_x_test[cifar5_y_test>=8,:]\n",
        "cifar5_y_ood_train = cifar5_y_test[cifar5_y_test>=8]\n",
        "cifar5_x_ood_test = cifar5_x_test[cifar5_y_test<8,:]\n",
        "cifar5_y_ood_test = cifar5_y_test[cifar5_y_test<8]\n",
        "print(cifar5_y_ood_train)\n",
        "print(cifar5_y_ood_test)\n",
        "cifar5_y_train = np.eye(5)[cifar5_y_train]\n",
        "cifar5_y_test = np.eye(5)[cifar5_y_test - 5]\n",
        "cifar5_y_ood_train = np.eye(5)[cifar5_y_ood_train - 5]\n",
        "cifar5_y_ood_test = np.eye(5)[cifar5_y_ood_test - 5]\n",
        "cifar5_y_train_test = np.eye(5)[cifar5_y_train_test]\n",
        "\n",
        "#download notmnist dataset\n",
        "!wget http://yaroslavvb.com/upload/notMNIST/notMNIST_small.mat\n",
        "  \n",
        "notmnist = scipy.io.loadmat(\"notMNIST_small.mat\")\n",
        "notmnist_x = np.array(notmnist[\"images\"]).reshape(28*28,18724).transpose() / 255\n",
        "notmnist_y = np.eye(10)[np.array(notmnist[\"labels\"]).astype(int)]"
      ],
      "execution_count": 0,
      "outputs": []
    },
    {
      "cell_type": "markdown",
      "metadata": {
        "id": "8O1iH8BBHtwK",
        "colab_type": "text"
      },
      "source": [
        "#####  <font color=yellow>(Get bounday data )</font>"
      ]
    },
    {
      "cell_type": "code",
      "metadata": {
        "id": "VC_mK_3CHyEH",
        "colab_type": "code",
        "colab": {}
      },
      "source": [
        "from sklearn.metrics.pairwise import cosine_similarity\n",
        "from scipy.stats import entropy\n",
        "\n",
        "def sample_mask(idx, l):\n",
        "    \"\"\"Create mask.\"\"\"\n",
        "    mask = np.zeros(l)\n",
        "    mask[idx] = 1\n",
        "    return np.array(mask, dtype=np.bool)\n",
        "\n",
        "dissonance_sample = 10 ## number of top dissonance node to choose\n",
        "sample_k = 10 ## number of nearest label node to choose\n",
        "bsize = 1000\n",
        "n_batches = cifar5_x_train.shape[0] // bsize\n",
        "\n",
        "dissonance_mask = []\n",
        "for i in range(n_batches):\n",
        "      data = cifar5_x_train[i*bsize:min((i+1)*bsize, cifar5_x_train.shape[0]),:]\n",
        "      label = cifar5_y_train[i*bsize:min((i+1)*bsize, cifar5_y_train.shape[0]),:]\n",
        "      score = cosine_similarity(data, data)\n",
        "      score_list = []\n",
        "      for item in score:\n",
        "        item_index = item.argsort()[-sample_k:][::-1]\n",
        "        near_label = label[item_index]\n",
        "        d_score = np.sum(near_label, axis=0)/sample_k\n",
        "        d_score = entropy(d_score)\n",
        "        score_list.append(d_score)\n",
        "      score_list = np.asarray(score_list)\n",
        "      dissonance_index = score_list.argsort()[-dissonance_sample:][::-1]\n",
        "      mask_i = sample_mask(dissonance_index, label.shape[0])\n",
        "      dissonance_mask.append(mask_i)\n",
        "\n",
        "\n"
      ],
      "execution_count": 0,
      "outputs": []
    },
    {
      "cell_type": "code",
      "metadata": {
        "id": "3BFpnkNgXFJU",
        "colab_type": "code",
        "outputId": "1c901553-20e5-40fb-966b-525afdac95ff",
        "colab": {
          "base_uri": "https://localhost:8080/",
          "height": 111
        }
      },
      "source": [
        "# display a couple of pictures from the dataset\n",
        "\n",
        "digit = mnist.train.images[4].copy()\n",
        "digit2 = mnist.train.images[222].copy()\n",
        "\n",
        "i = 0\n",
        "plt.figure(figsize=(10,10))\n",
        "for image, size in ((digit, (28,28)), \n",
        "                    (digit2, (28,28)), \n",
        "                    (cifar5_x_train[1], (32,32,3)),\n",
        "                    (cifar5_x_train[23], (32,32,3)),\n",
        "                    (cifar5_x_ood_train[4], (32,32,3)),\n",
        "                    (cifar5_x_ood_test[11], (32,32,3)),\n",
        "                    (notmnist_x[6], (28, 28)),\n",
        "                    (notmnist_x[7], (28,28))):\n",
        "  i+=1\n",
        "  plt.subplot(1,8,i)\n",
        "  plt.grid(False)\n",
        "  plt.imshow(image.copy().reshape(size))"
      ],
      "execution_count": 0,
      "outputs": [
        {
          "output_type": "display_data",
          "data": {
            "image/png": "[encoded data removed]",
            "text/plain": [
              "<Figure size 720x720 with 8 Axes>"
            ]
          },
          "metadata": {
            "tags": []
          }
        }
      ]
    },
    {
      "cell_type": "markdown",
      "metadata": {
        "id": "AgFhHVBYZp_2",
        "colab_type": "text"
      },
      "source": [
        "##### Utility functions"
      ]
    },
    {
      "cell_type": "code",
      "metadata": {
        "id": "PUE1hFXeXXB2",
        "colab_type": "code",
        "colab": {}
      },
      "source": [
        "#### Logit to evidence converters - activation functions (they have to produce non-negative outputs for the uncertaintyuncertainity process)\n",
        "\n",
        "def relu_evidence(logits):\n",
        "    return tf.nn.relu(logits)\n",
        "\n",
        "def exp_evidence(logits): \n",
        "    return tf.exp(logits/100)\n",
        "  \n",
        "def relu6_evidence(logits):\n",
        "    return tf.nn.relu6(logits)\n",
        "  \n",
        "def softsign_evidence(logits):\n",
        "    return tf.nn.softsign(logits)\n",
        "\n",
        "  \n",
        "#### KL Divergence calculator\n",
        "\n",
        "def KL(alpha, K):\n",
        "    beta=tf.constant(np.ones((1,K)),dtype=tf.float32)\n",
        "    S_alpha = tf.reduce_sum(alpha,axis=1,keepdims=True)\n",
        "    \n",
        "    KL = tf.reduce_sum((alpha - beta)*(tf.digamma(alpha)-tf.digamma(S_alpha)),axis=1,keepdims=True) + \\\n",
        "         tf.lgamma(S_alpha) - tf.reduce_sum(tf.lgamma(alpha),axis=1,keepdims=True) + \\\n",
        "         tf.reduce_sum(tf.lgamma(beta),axis=1,keepdims=True) - tf.lgamma(tf.reduce_sum(beta,axis=1,keepdims=True))\n",
        "    return KL\n",
        "\n",
        "\n",
        "##### Loss functions (there are three different one defined in the papaer)\n",
        "def loss_eq6(p, alpha, K, global_step, annealing_step):\n",
        "    S = tf.reduce_sum(alpha, axis=1, keepdims=True)\n",
        "    loglikelihood = tf.reduce_sum((p-(alpha/S))**2, axis=1, keepdims=True) + tf.reduce_sum(alpha*(S-alpha)/(S*S*(S+1)), axis=1, keepdims=True)\n",
        "    KL_reg =  tf.minimum(1.0, tf.cast(global_step/annealing_step, tf.float32)) * KL((alpha - 1)*(1-p) + 1 , K)\n",
        "    return loglikelihood\n",
        "\n",
        "def loss_eq5(p, alpha, K, global_step, annealing_step):\n",
        "    S = tf.reduce_sum(alpha, axis=1, keepdims=True)\n",
        "    loglikelihood = tf.reduce_sum((p-(alpha/S))**2, axis=1, keepdims=True) + tf.reduce_sum(alpha*(S-alpha)/(S*S*(S+1)), axis=1, keepdims=True)\n",
        "    KL_reg =  tf.minimum(1.0, tf.cast(global_step/annealing_step, tf.float32)) * KL((alpha - 1)*(1-p) + 1 , K)\n",
        "    return loglikelihood + KL_reg\n",
        "\n",
        "def loss_eq4(p, alpha, K, global_step, annealing_step):\n",
        "    loglikelihood = tf.reduce_mean(tf.reduce_sum(p * (tf.digamma(tf.reduce_sum(alpha, axis=1, keepdims=True)) - tf.digamma(alpha)), 1, keepdims=True))\n",
        "    KL_reg =  tf.minimum(1.0, tf.cast(global_step/annealing_step, tf.float32)) * KL((alpha - 1)*(1-p) + 1 , K)\n",
        "    return loglikelihood + KL_reg\n",
        "\n",
        "def loss_eq3(p, alpha, K, global_step, annealing_step):\n",
        "    loglikelihood = tf.reduce_mean(tf.reduce_sum(p * (tf.log(tf.reduce_sum(alpha, axis=1, keepdims=True)) - tf.log(alpha)), 1, keepdims=True))\n",
        "    KL_reg =  tf.minimum(1.0, tf.cast(global_step/annealing_step, tf.float32)) * KL((alpha - 1)*(1-p) + 1 , K)\n",
        "    return loglikelihood + KL_reg\n",
        "\n"
      ],
      "execution_count": 0,
      "outputs": []
    },
    {
      "cell_type": "markdown",
      "metadata": {
        "id": "NoI6UKvm3vGF",
        "colab_type": "text"
      },
      "source": [
        "#####  <font color=yellow>Dissonance utility function</font>"
      ]
    },
    {
      "cell_type": "code",
      "metadata": {
        "id": "RjrC_n-D32jW",
        "colab_type": "code",
        "colab": {}
      },
      "source": [
        "def dissonance_tf(evidence):\n",
        "    alpha = evidence + 1.0\n",
        "    S = tf.reduce_sum(alpha, axis=1, keepdims=True)\n",
        "    belief = evidence / S\n",
        "    dis_un = 0\n",
        "    list_k = np.arange(5)\n",
        "    for i in range(5):\n",
        "      list_j = np.delete(list_k, i)\n",
        "      bal_i = belief[:, i]\n",
        "      dis_i = 0\n",
        "      score_ij = 0\n",
        "      score_j = 0\n",
        "      for j in list_j:\n",
        "        bal_j = belief[:, j]\n",
        "        bal_ij = Bal_tf(bal_i, bal_j)\n",
        "        score_ij += bal_ij * bal_j\n",
        "        score_j += bal_j \n",
        "      dis_i += bal_i * score_ij / (score_j + 1e-8)\n",
        "      dis_un += dis_i\n",
        "    return dis_un\n",
        "        \n",
        " \n",
        "def Bal_tf(b_i, b_j):\n",
        "    result = 1 - tf.abs(b_i - b_j) / (b_i + b_j + 1e-8)\n",
        "    return result\n",
        "  \n",
        "def masked_dissonance_loss(loss, mask):\n",
        "    mask = tf.cast(mask, dtype=tf.float32)\n",
        "    mask /= tf.reduce_mean(mask)\n",
        "    loss *= mask\n",
        "    return tf.reduce_mean(loss)\n",
        "  \n",
        "  \n",
        "def dissonance_uncertainty_edl(evidence):\n",
        "    alpha = evidence + 1.0\n",
        "    S = np.sum(alpha, axis=1, keepdims=True)\n",
        "    belief = evidence / S\n",
        "    dis_un = np.zeros_like(S)\n",
        "    for k in range(belief.shape[0]):\n",
        "        for i in range(belief.shape[1]):\n",
        "            bi = belief[k][i]\n",
        "            term_Bal = 0.0\n",
        "            term_bj = 0.0\n",
        "            for j in range(belief.shape[1]):\n",
        "                if j != i:\n",
        "                    bj = belief[k][j]\n",
        "                    term_Bal += bj * Bal(bi, bj)\n",
        "                    term_bj += bj\n",
        "            dis_ki = bi * term_Bal / (term_bj + 1e-8)\n",
        "            dis_un[k] += dis_ki\n",
        " \n",
        "    return dis_un\n",
        " \n",
        "def Bal(b_i, b_j):\n",
        "    result = 1 - np.abs(b_i - b_j) / (b_i + b_j + 1e-8)\n",
        "    return result"
      ],
      "execution_count": 0,
      "outputs": []
    },
    {
      "cell_type": "code",
      "metadata": {
        "id": "G6UlDFVVzMwa",
        "colab_type": "code",
        "outputId": "dcf49363-ab43-4d5c-daba-53e5774d354d",
        "colab": {
          "base_uri": "https://localhost:8080/",
          "height": 34
        }
      },
      "source": [
        "evi = np.array([[0.6, 0.01, 0.05]])\n",
        "diss = dissonance_uncertainty_edl(evi)\n",
        "print(diss)"
      ],
      "execution_count": 0,
      "outputs": [
        {
          "output_type": "stream",
          "text": [
            "[[0.02420771]]\n"
          ],
          "name": "stdout"
        }
      ]
    },
    {
      "cell_type": "markdown",
      "metadata": {
        "id": "Nf_Me0zWq91H",
        "colab_type": "text"
      },
      "source": [
        "##### Drawing functions"
      ]
    },
    {
      "cell_type": "code",
      "metadata": {
        "id": "kCpeC9rgq-Bh",
        "colab_type": "code",
        "colab": {}
      },
      "source": [
        "#### Graphs of total evidence & uncertainty for test/train datasets (plus their classification accuracies)\n",
        "\n",
        "def draw_EDL_results(K, train_acc1, train_ev_s, train_ev_f, test_acc1, test_ev_s, test_ev_f): \n",
        "    # calculate uncertainty for training and testing data for correctly and misclassified samples\n",
        "    train_u_succ = K / (K+np.array(train_ev_s))\n",
        "    train_u_fail = K / (K+np.array(train_ev_f))\n",
        "    test_u_succ  = K / (K+np.array(test_ev_s))\n",
        "    test_u_fail  = K / (K+np.array(test_ev_f))\n",
        "    \n",
        "    f, axs = pl.subplots(2, 2)\n",
        "    f.set_size_inches([10,10])\n",
        "    \n",
        "    axs[0,0].plot(train_ev_s,c='r',marker='+')\n",
        "    axs[0,0].plot(train_ev_f,c='k',marker='x')\n",
        "    axs[0,0].set_title('Train Data')\n",
        "    axs[0,0].set_xlabel('Epoch')\n",
        "    axs[0,0].set_ylabel('Estimated total evidence for classification') \n",
        "    axs[0,0].legend(['Correct Clasifications','Misclasifications'])\n",
        "    \n",
        "    axs[0,1].plot(train_u_succ,c='r',marker='+')\n",
        "    axs[0,1].plot(train_u_fail,c='k',marker='x')\n",
        "    axs[0,1].plot(train_acc1,c='blue',marker='*')\n",
        "    axs[0,1].set_title('Train Data')\n",
        "    axs[0,1].set_xlabel('Epoch')\n",
        "    axs[0,1].set_ylabel('Estimated uncertainty for classification')\n",
        "    axs[0,1].legend(['Correct clasifications','Misclasifications', 'Accuracy'])\n",
        "    \n",
        "    axs[1,0].plot(test_ev_s,c='r',marker='+')\n",
        "    axs[1,0].plot(test_ev_f,c='k',marker='x')\n",
        "    axs[1,0].set_title('Test Data')\n",
        "    axs[1,0].set_xlabel('Epoch')\n",
        "    axs[1,0].set_ylabel('Estimated total evidence for classification') \n",
        "    axs[1,0].legend(['Correct Clasifications','Misclasifications'])\n",
        "    \n",
        "    axs[1,1].plot(test_u_succ,c='r',marker='+')\n",
        "    axs[1,1].plot(test_u_fail,c='k',marker='x')\n",
        "    axs[1,1].plot(test_acc1,c='blue',marker='*')\n",
        "    axs[1,1].set_title('Test Data')\n",
        "    axs[1,1].set_xlabel('Epoch')\n",
        "    axs[1,1].set_ylabel('Estimated uncertainty for classification')\n",
        "    axs[1,1].legend(['Correct clasifications','Misclasifications', 'Accuracy'])\n",
        "    \n",
        "    plt.show()\n",
        "\n",
        "    \n",
        "#### Graph for image rotation experiment\n",
        "\n",
        "def rotating_image_classification(img, sess, prob, X, keep_prob, K, uncertainty=None, dims=(28,28), threshold=0.25, c=['black','blue','brown','purple','cyan','red'], marker=['s','^','o']*2):\n",
        "    Mdeg = 180 \n",
        "    Ndeg = Mdeg//10+1\n",
        "    ldeg = []\n",
        "    lp = []\n",
        "    lu = []\n",
        "    scores = np.zeros((1, K))\n",
        "    rot_imgs = np.zeros((dims[0], dims[1]*Ndeg))\n",
        "    for i,deg in enumerate(np.linspace(0, Mdeg, Ndeg)):\n",
        "        rot_img = nd.rotate(img.reshape(*dims), deg, reshape=False).reshape(*dims)\n",
        "        rot_img = np.clip(a=rot_img, a_min=0, a_max=1)\n",
        "        rot_imgs[:,i*dims[1]:(i+1)*dims[1]] = 1 - rot_img\n",
        "        feed_dict={X:rot_img.reshape(1,-1), keep_prob:1.0}\n",
        "        if uncertainty is None:\n",
        "            p_pred_t = sess.run(prob, feed_dict=feed_dict)\n",
        "        else:\n",
        "            p_pred_t,u = sess.run([prob,uncertainty], feed_dict=feed_dict)\n",
        "            lu.append(u.mean())\n",
        "        scores += p_pred_t >= threshold\n",
        "        ldeg.append(deg) \n",
        "        lp.append(p_pred_t[0])\n",
        "    \n",
        "    labels = np.arange(K)[scores[0].astype(bool)]\n",
        "    lp = np.array(lp)[:,labels]\n",
        "    labels = labels.tolist()\n",
        "    \n",
        "    plt.figure(figsize=[6,6])\n",
        "    for i in range(len(labels)):\n",
        "        plt.plot(ldeg, lp[:,i], marker=marker[i], c=c[i])\n",
        "    \n",
        "    if uncertainty is not None:\n",
        "        labels += ['uncertainty']\n",
        "        plt.plot(ldeg,lu,marker='<',c='red')\n",
        "        \n",
        "    plt.legend(labels)\n",
        " \n",
        "    plt.xlim([0,Mdeg])  \n",
        "    plt.xlabel('Rotation Degree')\n",
        "    plt.ylabel('Classification Probability')\n",
        "    plt.show()\n",
        "\n",
        "    plt.figure(figsize=[6.4,100])\n",
        "    plt.imshow(rot_imgs,cmap='gray')\n",
        "    plt.axis('off')\n",
        "    plt.show()"
      ],
      "execution_count": 0,
      "outputs": []
    },
    {
      "cell_type": "markdown",
      "metadata": {
        "id": "OcrzWcsvZ8jZ",
        "colab_type": "text"
      },
      "source": [
        "### Models"
      ]
    },
    {
      "cell_type": "markdown",
      "metadata": {
        "id": "aHnpCVOqaDv8",
        "colab_type": "text"
      },
      "source": [
        "##### LeNet with softmax cross entropy loss function"
      ]
    },
    {
      "cell_type": "code",
      "metadata": {
        "id": "GVy1cHeRZvVj",
        "colab_type": "code",
        "colab": {}
      },
      "source": [
        "def var(name, shape, init=None):\n",
        "    init = tf.truncated_normal_initializer(stddev=(2/shape[0])**0.5) if init is None else init\n",
        "    return tf.get_variable(name=name, shape=shape, dtype=tf.float32, initializer=init)\n",
        "\n",
        "def LeNet_softmax(K, lmb=0.005, dims=(28,28), nch=1): \n",
        "    g = tf.Graph()\n",
        "    with g.as_default():\n",
        "        X = tf.placeholder(shape=[None,np.prod(dims)*nch], dtype=tf.float32)\n",
        "        Y = tf.placeholder(shape=[None,K], dtype=tf.float32)\n",
        "        keep_prob = tf.placeholder(dtype=tf.float32)\n",
        "        \n",
        "        W1 = var('W1', [5,5,nch,20])\n",
        "        b1 = var('b1', [20])\n",
        "        c1 = tf.nn.conv2d(tf.reshape(X, [-1, *dims, nch]), W1, [1, 1, 1, 1], 'SAME')\n",
        "        r1 = tf.nn.relu(c1 + b1)\n",
        "        out1 = tf.nn.max_pool(r1, [1, 2, 2, 1], [1, 2, 2, 1], 'SAME')\n",
        "        \n",
        "        W2 = var('W2', [5,5,20,50])\n",
        "        b2 = var('b2', [50])\n",
        "        c2 = tf.nn.conv2d(out1, W2, [1, 1, 1, 1], 'SAME')\n",
        "        r2 = tf.nn.relu(c2 + b2)\n",
        "        out2 = tf.nn.max_pool(r2, [1, 2, 2, 1], [1, 2, 2, 1], 'SAME')\n",
        "        \n",
        "        Xflat = tf.contrib.layers.flatten(out2)\n",
        "\n",
        "        W3 = var('W3', [Xflat.get_shape()[1].value, 500])\n",
        "        b3 = var('b3', [500]) \n",
        "        out3 = tf.nn.relu(tf.matmul(Xflat, W3) + b3)\n",
        "        out3 = tf.nn.dropout(out3, keep_prob=keep_prob)\n",
        "\n",
        "        W4 = var('W4', [500,K])\n",
        "        b4 = var('b4', [K])\n",
        "        logits = tf.matmul(out3, W4) + b4\n",
        "        \n",
        "        prob = tf.nn.softmax(logits=logits) \n",
        "        \n",
        "        loss = tf.reduce_mean(tf.nn.softmax_cross_entropy_with_logits_v2(logits=logits, labels=Y))\n",
        "        l2_loss = (tf.nn.l2_loss(W3)+tf.nn.l2_loss(W4)) * lmb\n",
        "        \n",
        "        step = tf.train.AdamOptimizer().minimize(loss + l2_loss)\n",
        "        \n",
        "        acc = tf.reduce_mean(tf.cast(tf.equal(tf.argmax(prob, 1), tf.argmax(Y, 1)), tf.float32))\n",
        "        \n",
        "        return g, step, X, Y, keep_prob, prob, acc, loss"
      ],
      "execution_count": 0,
      "outputs": []
    },
    {
      "cell_type": "markdown",
      "metadata": {
        "id": "w0G8j59taKm7",
        "colab_type": "text"
      },
      "source": [
        "##### LeNet with expected mean square error loss <font color=red>(Add the loss for out of distributino)</font>"
      ]
    },
    {
      "cell_type": "code",
      "metadata": {
        "id": "5wy5T8Y-aLCh",
        "colab_type": "code",
        "colab": {}
      },
      "source": [
        "def var(name, shape, init=None):\n",
        "    init = tf.truncated_normal_initializer(stddev=(2/shape[0])**0.5) if init is None else init\n",
        "    return tf.get_variable(name=name, shape=shape, dtype=tf.float32, initializer=init)\n",
        "  \n",
        "def LeNet_EDL(K, loss_function, logits2evidence=relu_evidence, lmb=0.005, dims=(28,28), nch=1):\n",
        "    g = tf.Graph()\n",
        "    with g.as_default():\n",
        "        X = tf.placeholder(shape=[None,np.prod(dims)*nch], dtype=tf.float32)\n",
        "        Y = tf.placeholder(shape=[None,K], dtype=tf.float32)\n",
        "        keep_prob = tf.placeholder(dtype=tf.float32)\n",
        "        out_statue = tf.placeholder_with_default(False, shape=()) # control the uncertainty regularization loss\n",
        "\n",
        "        global_step = tf.Variable(initial_value=0, name='global_step', trainable=False)\n",
        "        annealing_step = tf.placeholder(dtype=tf.int32) \n",
        "    \n",
        "        W1 = var('W1', [5,5,nch,20])\n",
        "        b1 = var('b1', [20])\n",
        "        c1 = tf.nn.conv2d(tf.reshape(X, [-1, *dims, nch]), W1, [1, 1, 1, 1], 'SAME')\n",
        "        r1 = tf.nn.relu(c1 + b1)\n",
        "        out1 = tf.nn.max_pool(r1, [1, 2, 2, 1], [1, 2, 2, 1], 'SAME')\n",
        "        \n",
        "        W2 = var('W2', [5,5,20,50])\n",
        "        b2 = var('b2', [50])\n",
        "        c2 = tf.nn.conv2d(out1, W2, [1, 1, 1, 1], 'SAME')\n",
        "        r2 = tf.nn.relu(c2 + b2)\n",
        "        out2 = tf.nn.max_pool(r2, [1, 2, 2, 1], [1, 2, 2, 1], 'SAME')\n",
        "\n",
        "        Xflat = tf.contrib.layers.flatten(out2)\n",
        "\n",
        "        W3 = var('W3', [Xflat.get_shape()[1].value, 500])\n",
        "        b3 = var('b3', [500]) \n",
        "        out3 = tf.nn.relu(tf.matmul(Xflat, W3) + b3)\n",
        "        out3 = tf.nn.dropout(out3, keep_prob=keep_prob)\n",
        "\n",
        "        W4 = var('W4', [500,K])\n",
        "        b4 = var('b4', [K])\n",
        "        logits = tf.matmul(out3, W4) + b4\n",
        "        \n",
        "        evidence = logits2evidence(logits)\n",
        "        alpha = evidence + 1\n",
        "        \n",
        "        u = K / tf.reduce_sum(alpha, axis=1, keepdims=True)\n",
        "        \n",
        "        prob = alpha/tf.reduce_sum(alpha, 1, keepdims=True) \n",
        "        \n",
        "        loss = tf.cond(out_statue, lambda: 0.01*tf.reduce_mean(1-u), lambda: tf.reduce_mean(loss_function(Y, alpha, K, global_step, annealing_step)))\n",
        "\n",
        "        # loss = tf.reduce_mean(loss_function(Y, alpha, K, global_step, annealing_step))\n",
        "        l2_loss = (tf.nn.l2_loss(W3)+tf.nn.l2_loss(W4)) * lmb\n",
        "        \n",
        "        step = tf.train.AdamOptimizer().minimize(loss + l2_loss, global_step=global_step)\n",
        "        \n",
        "        match = tf.reshape(tf.cast(tf.equal(tf.argmax(logits, 1), tf.argmax(Y, 1)), tf.float32),(-1,1))\n",
        "        acc = tf.reduce_mean(match)\n",
        "        \n",
        "        total_evidence = tf.reduce_sum(evidence,1, keepdims=True) \n",
        "        mean_ev = tf.reduce_mean(total_evidence)\n",
        "        mean_ev_succ = tf.reduce_sum(tf.reduce_sum(evidence,1, keepdims=True)*match) / tf.reduce_sum(match+1e-20)\n",
        "        mean_ev_fail = tf.reduce_sum(tf.reduce_sum(evidence,1, keepdims=True)*(1-match)) / (tf.reduce_sum(tf.abs(1-match))+1e-20) \n",
        "        \n",
        "        return g, step, X, Y, annealing_step, keep_prob, prob, acc, loss, u, evidence, mean_ev, mean_ev_succ, mean_ev_fail, out_statue, logits"
      ],
      "execution_count": 0,
      "outputs": []
    },
    {
      "cell_type": "markdown",
      "metadata": {
        "id": "-w1XT2WfdEr2",
        "colab_type": "text"
      },
      "source": [
        "##### LeNet with expected mean square error loss <font color=yellow>(Add the loss for dissonance and vacuity)</font>"
      ]
    },
    {
      "cell_type": "code",
      "metadata": {
        "id": "BjTkuVMUdI0d",
        "colab_type": "code",
        "colab": {}
      },
      "source": [
        "def var(name, shape, init=None):\n",
        "    init = tf.truncated_normal_initializer(stddev=(2/shape[0])**0.5) if init is None else init\n",
        "    return tf.get_variable(name=name, shape=shape, dtype=tf.float32, initializer=init)\n",
        "  \n",
        "def LeNet_EDL_D(K, loss_function, logits2evidence=relu_evidence, lmb=0.005, dims=(28,28), nch=1):\n",
        "    g = tf.Graph()\n",
        "    with g.as_default():\n",
        "        X = tf.placeholder(shape=[None,np.prod(dims)*nch], dtype=tf.float32)\n",
        "        Y = tf.placeholder(shape=[None,K], dtype=tf.float32)\n",
        "        keep_prob = tf.placeholder(dtype=tf.float32)\n",
        "        out_statue = tf.placeholder_with_default(False, shape=()) # control the uncertainty regularization loss\n",
        "        d_mask = tf.placeholder(tf.int32)\n",
        "\n",
        "        global_step = tf.Variable(initial_value=0, name='global_step', trainable=False)\n",
        "        annealing_step = tf.placeholder(dtype=tf.int32) \n",
        "    \n",
        "        W1 = var('W1', [5,5,nch,20])\n",
        "        b1 = var('b1', [20])\n",
        "        c1 = tf.nn.conv2d(tf.reshape(X, [-1, *dims, nch]), W1, [1, 1, 1, 1], 'SAME')\n",
        "        r1 = tf.nn.relu(c1 + b1)\n",
        "        out1 = tf.nn.max_pool(r1, [1, 2, 2, 1], [1, 2, 2, 1], 'SAME')\n",
        "        \n",
        "        W2 = var('W2', [5,5,20,50])\n",
        "        b2 = var('b2', [50])\n",
        "        c2 = tf.nn.conv2d(out1, W2, [1, 1, 1, 1], 'SAME')\n",
        "        r2 = tf.nn.relu(c2 + b2)\n",
        "        out2 = tf.nn.max_pool(r2, [1, 2, 2, 1], [1, 2, 2, 1], 'SAME')\n",
        "\n",
        "        Xflat = tf.contrib.layers.flatten(out2)\n",
        "\n",
        "        W3 = var('W3', [Xflat.get_shape()[1].value, 500])\n",
        "        b3 = var('b3', [500]) \n",
        "        out3 = tf.nn.relu(tf.matmul(Xflat, W3) + b3)\n",
        "        out3 = tf.nn.dropout(out3, keep_prob=keep_prob)\n",
        "\n",
        "        W4 = var('W4', [500,K])\n",
        "        b4 = var('b4', [K])\n",
        "        logits = tf.matmul(out3, W4) + b4\n",
        "        \n",
        "        evidence = logits2evidence(logits)\n",
        "        alpha = evidence + 1\n",
        "        \n",
        "        u = K / tf.reduce_sum(alpha, axis=1, keepdims=True)\n",
        "        \n",
        "        prob = alpha/tf.reduce_sum(alpha, 1, keepdims=True) \n",
        "        \n",
        "        dissonance = dissonance_tf(evidence)\n",
        "        \n",
        "        loss = tf.cond(out_statue, lambda: 0.01*tf.reduce_mean(1-u), lambda: tf.reduce_mean(loss_function(Y, alpha, K, global_step, annealing_step)) - 0.01 * masked_dissonance_loss(dissonance, d_mask))\n",
        "        \n",
        "#         dissonance = dissonance_tf(evidence)\n",
        "        \n",
        "#         loss_dissonance = 0.01 * masked_dissonance_loss(dissonance, d_mask)\n",
        "        \n",
        "#         loss += loss_dissonance\n",
        "        \n",
        "        # loss = tf.reduce_mean(loss_function(Y, alpha, K, global_step, annealing_step))\n",
        "        l2_loss = (tf.nn.l2_loss(W3)+tf.nn.l2_loss(W4)) * lmb\n",
        "        \n",
        "        step = tf.train.AdamOptimizer().minimize(loss + l2_loss, global_step=global_step)\n",
        "        \n",
        "        match = tf.reshape(tf.cast(tf.equal(tf.argmax(logits, 1), tf.argmax(Y, 1)), tf.float32),(-1,1))\n",
        "        acc = tf.reduce_mean(match)\n",
        "        \n",
        "        total_evidence = tf.reduce_sum(evidence,1, keepdims=True) \n",
        "        mean_ev = tf.reduce_mean(total_evidence)\n",
        "        mean_ev_succ = tf.reduce_sum(tf.reduce_sum(evidence,1, keepdims=True)*match) / tf.reduce_sum(match+1e-20)\n",
        "        mean_ev_fail = tf.reduce_sum(tf.reduce_sum(evidence,1, keepdims=True)*(1-match)) / (tf.reduce_sum(tf.abs(1-match))+1e-20) \n",
        "        \n",
        "        return g, step, X, Y, annealing_step, keep_prob, prob, acc, loss, u, evidence, mean_ev, mean_ev_succ, mean_ev_fail, out_statue, logits, dissonance, d_mask"
      ],
      "execution_count": 0,
      "outputs": []
    },
    {
      "cell_type": "markdown",
      "metadata": {
        "id": "LjJZE91xaZJy",
        "colab_type": "text"
      },
      "source": [
        "### Model trainings and testings"
      ]
    },
    {
      "cell_type": "markdown",
      "metadata": {
        "id": "eZJBpnrTeH2I",
        "colab_type": "text"
      },
      "source": [
        "##### Only Softmax (Regular LeNet)"
      ]
    },
    {
      "cell_type": "code",
      "metadata": {
        "id": "8-PhblgFazIt",
        "colab_type": "code",
        "colab": {}
      },
      "source": [
        "g, step, X, Y, keep_prob, prob, acc, loss = LeNet_softmax(K=10)\n",
        "sess = tf.Session(graph=g)\n",
        "with g.as_default(): \n",
        "    sess.run(tf.global_variables_initializer())\n",
        "\n",
        "epoch = 50\n",
        "bsize = 1000\n",
        "n_batches = mnist.train.num_examples // bsize\n",
        "for e in range(epoch):   \n",
        "    for i in range(n_batches):\n",
        "        data, label = mnist.train.next_batch(bsize)\n",
        "        sess.run(step, {X:data, Y:label, keep_prob:.5})\n",
        "        print('epoch %d - %d%%) '% (e+1, (100*(i+1))//n_batches), end='\\r' if i<n_batches-1 else '')\n",
        "        \n",
        "    train_acc = sess.run(acc, feed_dict={X:mnist.train.images, Y:mnist.train.labels, keep_prob:1.})\n",
        "    test_acc = sess.run(acc, feed_dict={X:mnist.test.images, Y:mnist.test.labels, keep_prob:1.})\n",
        "    \n",
        "    print('training accuracy: %2.4f \\t testing accuracy: %2.4f' % (train_acc, test_acc))"
      ],
      "execution_count": 0,
      "outputs": []
    },
    {
      "cell_type": "code",
      "metadata": {
        "id": "H_MycW3YbgcS",
        "colab_type": "code",
        "colab": {}
      },
      "source": [
        "rotating_image_classification(digit, sess, prob, X, keep_prob, 10)"
      ],
      "execution_count": 0,
      "outputs": []
    },
    {
      "cell_type": "code",
      "metadata": {
        "id": "TpWlabiJqsqf",
        "colab_type": "code",
        "colab": {}
      },
      "source": [
        "nm_p_sm = sess.run(prob, feed_dict={X:notmnist_x,Y:notmnist_y,keep_prob:1.}).copy()\n",
        "entropies_sm = [scipy.stats.entropy(nm_p_sm[i,:]) for i in range(nm_p_sm.shape[0])]"
      ],
      "execution_count": 0,
      "outputs": []
    },
    {
      "cell_type": "markdown",
      "metadata": {
        "id": "6GyG4zMTwg2Q",
        "colab_type": "text"
      },
      "source": [
        "As you see, the model fails when a **training** data is started to be rotated. It predicts the correct class up to 5-10 degrees, and then starts to fail to assign that specific class as the output. The dramatic part of this failure starts with assigning another class instead of the correct class since regular NNs like this LeNet implementation should always produce a class label as the output as it does not have any other option. As the sample rotated, the assigned class changes sometimes even multiple times. This example shows how the network fails handling an out-of-distribution sample. Another example could be using a nonMNIST data as the test sample where the NN would fail again by saying \"3\" or \"5\" or any other digit to a non-digit sample.\n",
        "\n",
        "These type of failures are stated as out-of-distribution failures in the paper. One other failure is shown where the input is from the distribution, but it's distorted in a special way so that it is completely normal to a human whereas the network interprets it as a completely irrelevant class with >99% accuracy. An example can be shown below"
      ]
    },
    {
      "cell_type": "markdown",
      "metadata": {
        "id": "7i9Kxc8oyPpj",
        "colab_type": "text"
      },
      "source": [
        "Here, when an image of digit 9 is rotated, it will be stated to be recognized as 5, 8 or some other digit until it is rotated 180 degrees which corresponds to digit 6 as expected. Below, the proposed network (training an uncertainty as well, with the proposed different loss functions) will be used to overcome uncertainty issue explained."
      ]
    },
    {
      "cell_type": "markdown",
      "metadata": {
        "id": "iqwviRmXmKT6",
        "colab_type": "text"
      },
      "source": [
        "##### Using the Expected Mean Square Error (Eq. 5)"
      ]
    },
    {
      "cell_type": "code",
      "metadata": {
        "id": "YLlcT8uZfDV8",
        "colab_type": "code",
        "colab": {}
      },
      "source": [
        "seed = 123\n",
        "np.random.seed(seed)\n",
        "tf.set_random_seed(seed)\n",
        "\n",
        "g, step, X, Y, annealing_step, keep_prob, prob, acc, loss, u, evidence, mean_ev, mean_ev_succ, mean_ev_fail, out_statue, logits = LeNet_EDL(10, loss_eq5, relu_evidence)\n",
        "sess = tf.Session(graph=g)\n",
        "\n",
        "with g.as_default():\n",
        "    sess.run(tf.global_variables_initializer())\n",
        "    \n",
        "epoch = 50\n",
        "bsize = 1000\n",
        "n_batches = mnist.train.num_examples // bsize\n",
        "m_batchs = len(notmnist_x) // n_batches\n",
        "L_train_acc=[]\n",
        "L_train_ev_s=[]\n",
        "L_train_ev_f=[]\n",
        "L_test_acc=[]\n",
        "L_test_ev_s=[]\n",
        "L_test_ev_f=[]\n",
        "for e in range(epoch):   \n",
        "    for i in range(n_batches):\n",
        "        data, label = mnist.train.next_batch(bsize)\n",
        "        sess.run(step, feed_dict={X:data, Y:label, keep_prob:.5, annealing_step:10*n_batches})\n",
        "        print('epoch %d - %d%%) '% (e+1, (100*(i+1))//n_batches), end='\\r' if i<n_batches-1 else '')\n",
        "        \n",
        "    train_acc, train_succ, train_fail = sess.run([acc,mean_ev_succ,mean_ev_fail], feed_dict={X:mnist.train.images, Y:mnist.train.labels, keep_prob:1.})\n",
        "    test_acc, test_succ, test_fail = sess.run([acc,mean_ev_succ,mean_ev_fail], feed_dict={X:mnist.test.images, Y:mnist.test.labels, keep_prob:1.})\n",
        "    \n",
        "    L_train_acc.append(train_acc)\n",
        "    L_train_ev_s.append(train_succ)\n",
        "    L_train_ev_f.append(train_fail)\n",
        "    \n",
        "    L_test_acc.append(test_acc)\n",
        "    L_test_ev_s.append(test_succ)\n",
        "    L_test_ev_f.append(test_fail)\n",
        "    \n",
        "    print('training: %2.4f (%2.4f - %2.4f) \\t testing: %2.4f (%2.4f - %2.4f)' % \n",
        "          (train_acc, train_succ, train_fail, test_acc, test_succ, test_fail))"
      ],
      "execution_count": 0,
      "outputs": []
    },
    {
      "cell_type": "markdown",
      "metadata": {
        "id": "UHmFZGRomRfh",
        "colab_type": "text"
      },
      "source": [
        "##### Using the Expected Mean Square Error (Eq. 5) + Vacuity regularization"
      ]
    },
    {
      "cell_type": "code",
      "metadata": {
        "id": "B3Xzl4bxbqNO",
        "colab_type": "code",
        "colab": {}
      },
      "source": [
        "seed = 123\n",
        "np.random.seed(seed)\n",
        "tf.set_random_seed(seed)\n",
        "\n",
        "g, step, X, Y, annealing_step, keep_prob, prob, acc, loss, u, evidence, mean_ev, mean_ev_succ, mean_ev_fail, out_statue, logits= LeNet_EDL(10, loss_eq5, relu_evidence)\n",
        "sess = tf.Session(graph=g)\n",
        "\n",
        "with g.as_default():\n",
        "    sess.run(tf.global_variables_initializer())\n",
        "    \n",
        "epoch = 50\n",
        "bsize = 1000\n",
        "n_batches = mnist.train.num_examples // bsize\n",
        "m_batchs = len(notmnist_x) // n_batches\n",
        "L_train_acc=[]\n",
        "L_train_ev_s=[]\n",
        "L_train_ev_f=[]\n",
        "L_test_acc=[]\n",
        "L_test_ev_s=[]\n",
        "L_test_ev_f=[]\n",
        "for e in range(epoch):   \n",
        "    for i in range(n_batches):\n",
        "        data, label = mnist.train.next_batch(bsize)\n",
        "        sess.run(step, feed_dict={X:data, Y:label, keep_prob:.5, annealing_step:10*n_batches})\n",
        "        print('epoch %d - %d%%) '% (e+1, (100*(i+1))//n_batches), end='\\r' if i<n_batches-1 else '')\n",
        "        data = notmnist_x[i * m_batchs:(i + 1) * m_batchs]\n",
        "        label = notmnist_y[i * m_batchs:(i + 1) * m_batchs]\n",
        "        sess.run(step, feed_dict={X: data, Y: label, keep_prob: .5, annealing_step: 10 * n_batches, out_statue: True})\n",
        "        \n",
        "    train_acc, train_succ, train_fail = sess.run([acc,mean_ev_succ,mean_ev_fail], feed_dict={X:mnist.train.images, Y:mnist.train.labels, keep_prob:1.})\n",
        "    test_acc, test_succ, test_fail = sess.run([acc,mean_ev_succ,mean_ev_fail], feed_dict={X:mnist.test.images, Y:mnist.test.labels, keep_prob:1.})\n",
        "    \n",
        "    L_train_acc.append(train_acc)\n",
        "    L_train_ev_s.append(train_succ)\n",
        "    L_train_ev_f.append(train_fail)\n",
        "    \n",
        "    L_test_acc.append(test_acc)\n",
        "    L_test_ev_s.append(test_succ)\n",
        "    L_test_ev_f.append(test_fail)\n",
        "    \n",
        "    print('training: %2.4f (%2.4f - %2.4f) \\t testing: %2.4f (%2.4f - %2.4f)' % \n",
        "          (train_acc, train_succ, train_fail, test_acc, test_succ, test_fail))"
      ],
      "execution_count": 0,
      "outputs": []
    },
    {
      "cell_type": "code",
      "metadata": {
        "id": "gN-PozjOcM9M",
        "colab_type": "code",
        "colab": {}
      },
      "source": [
        "draw_EDL_results(10, L_train_acc, L_train_ev_s, L_train_ev_f, L_test_acc, L_test_ev_s, L_test_ev_f)\n",
        "rotating_image_classification(digit, sess, prob, X, keep_prob, 10, u)"
      ],
      "execution_count": 0,
      "outputs": []
    },
    {
      "cell_type": "markdown",
      "metadata": {
        "id": "6G5k9Uv6yd3g",
        "colab_type": "text"
      },
      "source": [
        "As you see, the network now starts to say \"*I don't know*\" to the examples of out-of-distribution with very high probabilities."
      ]
    },
    {
      "cell_type": "markdown",
      "metadata": {
        "id": "23-cZfoLrAy7",
        "colab_type": "text"
      },
      "source": [
        "Let us test the standard Softmax and EDL models' uncertainty assignment ability by testing the model trained on MNIST with notMNIST dataset.\n",
        "We look at the entropies of the predictive probabilities when model is fed with out-of-distribution data. We expect the expected entropy to be high (curve closer to bottom right corner is better)"
      ]
    },
    {
      "cell_type": "code",
      "metadata": {
        "id": "8ql18JGtq1UZ",
        "colab_type": "code",
        "colab": {}
      },
      "source": [
        "nm_p_edl1 = sess.run(prob, feed_dict={X:notmnist_x,Y:notmnist_y,keep_prob:1.}).copy()\n",
        "entropies_edl1 = [scipy.stats.entropy(nm_p_edl1[i,:]) for i in range(nm_p_edl1.shape[0])]"
      ],
      "execution_count": 0,
      "outputs": []
    },
    {
      "cell_type": "code",
      "metadata": {
        "id": "RA-zIEf5uhCp",
        "colab_type": "code",
        "colab": {}
      },
      "source": [
        "nm_p_edl_v = sess.run(prob, feed_dict={X:notmnist_x,Y:notmnist_y,keep_prob:1.}).copy()\n",
        "entropies_edl_v = [scipy.stats.entropy(nm_p_edl_v[i,:]) for i in range(nm_p_edl_v.shape[0])]"
      ],
      "execution_count": 0,
      "outputs": []
    },
    {
      "cell_type": "code",
      "metadata": {
        "id": "_YfdA6OIrF0P",
        "colab_type": "code",
        "colab": {}
      },
      "source": [
        "cdf_sm = np.histogram(entropies_sm, bins=1000)[0];\n",
        "cdf_sm = cdf_sm / np.sum(cdf_sm)\n",
        "cdf_sm = np.cumsum(cdf_sm)\n",
        "cdf_edl1 = np.histogram(entropies_edl1,bins=1000)[0];\n",
        "cdf_edl1 = cdf_edl1 / np.sum(cdf_edl1)\n",
        "cdf_edl1 = np.cumsum(cdf_edl1)\n",
        "cdf_edl_v = np.histogram(entropies_edl_v,bins=1000)[0];\n",
        "cdf_edl_v = cdf_edl_v / np.sum(cdf_edl_v)\n",
        "cdf_edl_v = np.cumsum(cdf_edl_v)\n",
        "xaxs= np.linspace(0,np.log(10),1000)\n",
        "plt.figure(figsize=(5,5))\n",
        "plt.plot(xaxs,cdf_sm,label=\"Softmax\", color='r')\n",
        "plt.plot(xaxs,cdf_edl1, label=\"EDL\", color=\"b\")\n",
        "plt.plot(xaxs,cdf_edl_v, label=\"EDL_V\", color=\"g\")\n",
        "\n",
        "plt.legend(loc='upper left')\n",
        "plt.xlim(0,np.log(10)+0.03)\n",
        "plt.ylim(0,1.01)\n",
        "plt.xlabel(\"Entropy\")\n",
        "plt.ylabel(\"Probability\")\n",
        "plt.title(\"CDF for the entropy of the predictive distributions\")\n",
        "plt.show()"
      ],
      "execution_count": 0,
      "outputs": []
    },
    {
      "cell_type": "markdown",
      "metadata": {
        "id": "2ydv-WML1e-H",
        "colab_type": "text"
      },
      "source": [
        "####Traing Cifar 5"
      ]
    },
    {
      "cell_type": "markdown",
      "metadata": {
        "id": "e0_ogcvPRMpT",
        "colab_type": "text"
      },
      "source": [
        "##### Softmax"
      ]
    },
    {
      "cell_type": "code",
      "metadata": {
        "id": "H1eptpG-rUFk",
        "colab_type": "code",
        "colab": {}
      },
      "source": [
        "g, step, X, Y, keep_prob, prob, acc, loss = LeNet_softmax(K=5, dims=(32,32), nch=3)\n",
        "sess = tf.Session(graph=g)\n",
        "with g.as_default(): \n",
        "    sess.run(tf.global_variables_initializer())\n",
        "\n",
        "epoch = 50\n",
        "bsize = 1000\n",
        "n_batches = cifar5_x_train.shape[0] // bsize\n",
        "for e in range(epoch):   \n",
        "    train_acc = 0.\n",
        "    for i in range(n_batches):\n",
        "        data = cifar5_x_train[i*bsize:min((i+1)*bsize, cifar5_x_train.shape[0]),:]\n",
        "        label = cifar5_y_train[i*bsize:min((i+1)*bsize, cifar5_y_train.shape[0]),:]\n",
        "        sess.run(step, {X:data, Y:label, keep_prob:.9})\n",
        "\n",
        "        print('epoch %d - %d%%) '% (e+1, (100*(i+1))//n_batches), end='\\r' if i<n_batches-1 else '')\n",
        "    accur_final=sess.run(acc, {X:cifar5_x_train, Y:cifar5_y_train, keep_prob:1.})\n",
        "    print('training accuracy: %2.4f' % (accur_final, ))\n",
        "    acc_test = sess.run(acc, {X:cifar5_x_train_test, Y:cifar5_y_train_test, keep_prob:1.})\n",
        "    print('test accuracy: %2.4f' % (acc_test,))"
      ],
      "execution_count": 0,
      "outputs": []
    },
    {
      "cell_type": "code",
      "metadata": {
        "id": "wv-M-74F9tmp",
        "colab_type": "code",
        "colab": {}
      },
      "source": [
        "print(cifar5_x_train.shape[0])\n",
        "print(cifar5_x_ood_train.shape[0])\n",
        "print(cifar5_x_ood_test.shape[0])"
      ],
      "execution_count": 0,
      "outputs": []
    },
    {
      "cell_type": "code",
      "metadata": {
        "id": "soueV7x8rkaI",
        "colab_type": "code",
        "colab": {}
      },
      "source": [
        "entropies_c5_sm = []\n",
        "for i in range(6):\n",
        "  nm_p_c5_sm = sess.run(prob, feed_dict={X:cifar5_x_ood_test[i*2500:(i+1)*2500],Y:cifar5_y_ood_test[i*2500:(i+1)*2500],keep_prob:1.}).copy()\n",
        "  entropies_c5_sm += [scipy.stats.entropy(nm_p_c5_sm[i,:]) for i in range(2500)]"
      ],
      "execution_count": 0,
      "outputs": []
    },
    {
      "cell_type": "markdown",
      "metadata": {
        "id": "TKi-L2iHRQkU",
        "colab_type": "text"
      },
      "source": [
        "##### EDL"
      ]
    },
    {
      "cell_type": "code",
      "metadata": {
        "id": "mhoay38ErmdX",
        "colab_type": "code",
        "colab": {}
      },
      "source": [
        "g, step, X, Y, annealing_step, keep_prob, prob, acc, loss, u, evidence, mean_ev, mean_ev_succ, mean_ev_fail, out_statue, logits = LeNet_EDL(5, loss_eq5, relu_evidence, dims=(32,32), nch=3)\n",
        "sess = tf.Session(graph=g)\n",
        "with g.as_default():\n",
        "    sess.run(tf.global_variables_initializer())\n",
        "    \n",
        "epoch = 50\n",
        "bsize = 1000\n",
        "n_batches = cifar5_x_train.shape[0] // bsize\n",
        "for e in range(epoch):   \n",
        "    train_acc = 0.\n",
        "    for i in range(n_batches):\n",
        "        data = cifar5_x_train[i*bsize:min((i+1)*bsize, cifar5_x_train.shape[0]),:]\n",
        "        label = cifar5_y_train[i*bsize:min((i+1)*bsize, cifar5_y_train.shape[0]),:]\n",
        "        sess.run(step, feed_dict={X:data, Y:label, keep_prob:.9, annealing_step:50*n_batches})\n",
        "#         accur = sess.run(acc, feed_dict={X:data, Y:label, keep_prob:1.})\n",
        "#         train_acc += accur\n",
        "        print('epoch %d - %d%%) '% (e+1, (100*(i+1))//n_batches), end='\\r' if i<n_batches-1 else '')\n",
        "    accur_final, logits_final=sess.run([acc, logits], {X:cifar5_x_train, Y:cifar5_y_train, keep_prob:1.})\n",
        "    print('training accuracy: %2.4f' % (accur_final,))\n",
        "    accur_final, logits_final=sess.run([acc, logits], {X:cifar5_x_train_test, Y:cifar5_y_train_test, keep_prob:1.})\n",
        "    print('test accuracy: %2.4f' % (accur_final,))\n",
        "#     print(logits_final[:5])\n",
        "#     print('training: %2.4f' % (train_acc / n_batches, ))"
      ],
      "execution_count": 0,
      "outputs": []
    },
    {
      "cell_type": "code",
      "metadata": {
        "id": "0gt_Y5T6rqpi",
        "colab_type": "code",
        "colab": {}
      },
      "source": [
        "entropies_c5_edl1 = []\n",
        "for i in range(6):\n",
        "  nm_p_c5_edl1 = sess.run(prob, feed_dict={X:cifar5_x_ood_test[i*2500:(i+1)*2500],Y:cifar5_y_ood_test[i*2500:(i+1)*2500],keep_prob:1.}).copy()\n",
        "  entropies_c5_edl1 += [scipy.stats.entropy(nm_p_c5_edl1[i,:]) for i in range(2500)]"
      ],
      "execution_count": 0,
      "outputs": []
    },
    {
      "cell_type": "code",
      "metadata": {
        "id": "1dItoX0pE75v",
        "colab_type": "code",
        "colab": {}
      },
      "source": [
        "entropies_c5_edl1_in = []\n",
        "for i in range(2):\n",
        "  nm_p_c5_edl1_in = sess.run(prob, feed_dict={X:cifar5_x_train_test[i*2500:(i+1)*2500],Y:cifar5_y_train_test[i*2500:(i+1)*2500],keep_prob:1.}).copy()\n",
        "  entropies_c5_edl1_in += [scipy.stats.entropy(nm_p_c5_edl1_in[i,:]) for i in range(2500)]"
      ],
      "execution_count": 0,
      "outputs": []
    },
    {
      "cell_type": "markdown",
      "metadata": {
        "id": "m6mdwOFpQ8kx",
        "colab_type": "text"
      },
      "source": [
        "#####  <font color=yellow>Training with dissonance</font>"
      ]
    },
    {
      "cell_type": "code",
      "metadata": {
        "id": "Z3hsIPDYRA35",
        "colab_type": "code",
        "colab": {}
      },
      "source": [
        "g, step, X, Y, annealing_step, keep_prob, prob, acc, loss, u, evidence, mean_ev, mean_ev_succ, mean_ev_fail, out_statue, logits, dissonance, d_mask = LeNet_EDL_D(5, loss_eq5, relu_evidence, dims=(32,32), nch=3)\n",
        "sess = tf.Session(graph=g)\n",
        "with g.as_default():\n",
        "    sess.run(tf.global_variables_initializer())\n",
        "    \n",
        "epoch = 50\n",
        "bsize = 1000\n",
        "n_batches = cifar5_x_train.shape[0] // bsize\n",
        "for e in range(epoch):   \n",
        "    for i in range(n_batches):\n",
        "        data = cifar5_x_train[i*bsize:min((i+1)*bsize, cifar5_x_train.shape[0]),:]\n",
        "        label = cifar5_y_train[i*bsize:min((i+1)*bsize, cifar5_y_train.shape[0]),:]\n",
        "        sess.run(step, feed_dict={X:data, Y:label, keep_prob:.9, annealing_step:50*n_batches, out_statue:False, d_mask:dissonance_mask[i]})\n",
        "        \n",
        "        if e > 30:\n",
        "          data_ood = cifar5_x_ood_train[i*m_batches:min((i+1)*m_batches, cifar5_x_ood_train.shape[0]),:]\n",
        "          label_ood = cifar5_y_ood_train[i*m_batches:min((i+1)*m_batches, cifar5_y_ood_train.shape[0]),:]\n",
        "          sess.run(step, feed_dict={X:data_ood, Y:label_ood, keep_prob:.9, annealing_step:50*n_batches, out_statue:True, d_mask:dissonance_mask[i]})\n",
        "        \n",
        "        print('epoch %d - %d%%) '% (e+1, (100*(i+1))//n_batches), end='\\r' if i<n_batches-1 else '')\n",
        "    accur_final, evi, dis =sess.run([acc, evidence, dissonance], {X:cifar5_x_train, Y:cifar5_y_train, keep_prob:1.})\n",
        "    print('training accuracy: %2.4f' % (accur_final,))\n",
        "    print('Average dissonance: ', np.mean(dis))\n",
        "    accur_final, logits_final=sess.run([acc, logits], {X:cifar5_x_train_test, Y:cifar5_y_train_test, keep_prob:1.})\n",
        "    print('test accuracy: %2.4f' % (accur_final,))\n"
      ],
      "execution_count": 0,
      "outputs": []
    },
    {
      "cell_type": "code",
      "metadata": {
        "id": "crdr4Gikh4Bn",
        "colab_type": "code",
        "colab": {}
      },
      "source": [
        "entropies_c5_edl_d = []\n",
        "for i in range(6):\n",
        "  nm_p_c5_edl_d = sess.run(prob, feed_dict={X:cifar5_x_ood_test[i*2500:(i+1)*2500],Y:cifar5_y_ood_test[i*2500:(i+1)*2500],keep_prob:1.}).copy()\n",
        "  entropies_c5_edl_d += [scipy.stats.entropy(nm_p_c5_edl_d[i,:]) for i in range(2500)]"
      ],
      "execution_count": 0,
      "outputs": []
    },
    {
      "cell_type": "markdown",
      "metadata": {
        "id": "dLZiKzYv-zOd",
        "colab_type": "text"
      },
      "source": [
        "##### Vacuity"
      ]
    },
    {
      "cell_type": "code",
      "metadata": {
        "id": "zEpuFTAy-woh",
        "colab_type": "code",
        "colab": {}
      },
      "source": [
        "g, step, X, Y, annealing_step, keep_prob, prob, acc, loss, u, evidence, mean_ev, mean_ev_succ, mean_ev_fail, out_statue, logits= LeNet_EDL(5, loss_eq5, relu_evidence, dims=(32,32), nch=3)\n",
        "sess = tf.Session(graph=g)\n",
        "with g.as_default():\n",
        "    sess.run(tf.global_variables_initializer())\n",
        "    \n",
        "epoch = 50\n",
        "bsize = 1000\n",
        "n_batches = cifar5_x_train.shape[0] // bsize\n",
        "m_batches = cifar5_x_ood_train.shape[0] // n_batches\n",
        "for e in range(epoch):   \n",
        "    train_acc = 0.\n",
        "    for i in range(n_batches):\n",
        "        data = cifar5_x_train[i*bsize:min((i+1)*bsize, cifar5_x_train.shape[0]),:]\n",
        "        label = cifar5_y_train[i*bsize:min((i+1)*bsize, cifar5_y_train.shape[0]),:]\n",
        "        sess.run(step, feed_dict={X:data, Y:label, keep_prob:.9, annealing_step:50*n_batches, out_statue:False})\n",
        "        \n",
        "        if e > 30:\n",
        "          data_ood = cifar5_x_ood_train[i*m_batches:min((i+1)*m_batches, cifar5_x_ood_train.shape[0]),:]\n",
        "          label_ood = cifar5_y_ood_train[i*m_batches:min((i+1)*m_batches, cifar5_y_ood_train.shape[0]),:]\n",
        "          sess.run(step, feed_dict={X:data_ood, Y:label_ood, keep_prob:.9, annealing_step:50*n_batches, out_statue:True})\n",
        "        \n",
        "\n",
        "\n",
        "        print('epoch %d - %d%%) '% (e+1, (100*(i+1))//n_batches), end='\\r' if i<n_batches-1 else '')\n",
        "    accur_final, logits_final=sess.run([acc, logits], {X:cifar5_x_train, Y:cifar5_y_train, keep_prob:1.})\n",
        "    print('training accuracy: %2.4f' % (accur_final,))\n",
        "    accur_final, logits_final=sess.run([acc, logits], {X:cifar5_x_train_test, Y:cifar5_y_train_test, keep_prob:1.})\n",
        "    print('test accuracy: %2.4f' % (accur_final,))\n",
        "#     print(logits_final[:5])\n",
        "#     print('training: %2.4f' % (train_acc / n_batches, ))"
      ],
      "execution_count": 0,
      "outputs": []
    },
    {
      "cell_type": "code",
      "metadata": {
        "id": "IX7_47muBhDu",
        "colab_type": "code",
        "colab": {}
      },
      "source": [
        "entropies_c5_edl_v = []\n",
        "for i in range(6):\n",
        "  nm_p_c5_edl_v = sess.run(prob, feed_dict={X:cifar5_x_ood_test[i*2500:(i+1)*2500],Y:cifar5_y_ood_test[i*2500:(i+1)*2500],keep_prob:1.}).copy()\n",
        "  entropies_c5_edl_v += [scipy.stats.entropy(nm_p_c5_edl_v[i,:]) for i in range(2500)]"
      ],
      "execution_count": 0,
      "outputs": []
    },
    {
      "cell_type": "markdown",
      "metadata": {
        "id": "ikWMaKD8RVwF",
        "colab_type": "text"
      },
      "source": [
        "##### Draw fig"
      ]
    },
    {
      "cell_type": "code",
      "metadata": {
        "id": "RgeKR2FyrseL",
        "colab_type": "code",
        "outputId": "45b990d2-2bc1-4183-a8a9-25e6ad5e5a77",
        "colab": {
          "base_uri": "https://localhost:8080/",
          "height": 367
        }
      },
      "source": [
        "cdf_sm = np.histogram(entropies_c5_sm, bins=1000)[0];\n",
        "cdf_sm = cdf_sm / np.sum(cdf_sm)\n",
        "cdf_sm = np.cumsum(cdf_sm)\n",
        "cdf_edl1 = np.histogram(entropies_c5_edl1,bins=1000)[0];\n",
        "cdf_edl1 = cdf_edl1 / np.sum(cdf_edl1)\n",
        "cdf_edl1 = np.cumsum(cdf_edl1)\n",
        "cdf_edl_v = np.histogram(entropies_c5_edl_v,bins=1000)[0];\n",
        "cdf_edl_v = cdf_edl_v / np.sum(cdf_edl_v)\n",
        "cdf_edl_v = np.cumsum(cdf_edl_v)\n",
        "cdf_edl_d = np.histogram(entropies_c5_edl_d,bins=1000)[0];\n",
        "cdf_edl_d = cdf_edl_d / np.sum(cdf_edl_d)\n",
        "cdf_edl_d = np.cumsum(cdf_edl_d)\n",
        "\n",
        "cdf_edl1_in = np.histogram(entropies_c5_edl1_in,bins=1000)[0];\n",
        "cdf_edl1_in = cdf_edl1_in / np.sum(cdf_edl1_in)\n",
        "cdf_edl1_in = np.cumsum(cdf_edl1_in)\n",
        "\n",
        "np.save('softmax_result.npy', entropies_c5_sm)\n",
        "np.save('EDL_result.npy', entropies_c5_edl1)\n",
        "np.save('EDL_vacuity_result.npy', entropies_c5_edl_v)\n",
        "np.save('EDL_dissonance_result.npy', entropies_c5_edl_d)\n",
        "\n",
        "\n",
        "xaxs= np.linspace(0,np.log(5),1000)\n",
        "print(np.mean(cdf_sm), np.mean(cdf_edl1), np.mean(cdf_edl_v), np.mean(cdf_edl_d))\n",
        "plt.figure(figsize=(5,5))\n",
        "plt.plot(xaxs,cdf_sm,label=\"Softmax\", color='r')\n",
        "plt.plot(xaxs,cdf_edl1, label=\"EDL\", color=\"b\")\n",
        "plt.plot(xaxs,cdf_edl_v, label=\"EDL_vacity\", color=\"g\")\n",
        "plt.plot(xaxs,cdf_edl_d, label=\"EDL_dissonance\", color=\"y\")\n",
        "# plt.plot(xaxs,cdf_edl1_in, label=\"EDL_in\", color=\"k\")\n",
        "\n",
        "\n",
        "plt.legend(loc='upper left')\n",
        "plt.xlim(0,np.log(5)+0.03)\n",
        "plt.ylim(0,1.01)\n",
        "plt.xlabel(\"Entropy\")\n",
        "plt.ylabel(\"Probability\")\n",
        "plt.title(\"CDF for the entropy of the predictive distributions\")\n",
        "plt.show()"
      ],
      "execution_count": 0,
      "outputs": [
        {
          "output_type": "stream",
          "text": [
            "0.5421720000000005 0.18174379999999993 0.0888169333333332 0.18651373333333315\n"
          ],
          "name": "stdout"
        },
        {
          "output_type": "display_data",
          "data": {
            "image/png": "[encoded data removed]",
            "text/plain": [
              "<Figure size 360x360 with 1 Axes>"
            ]
          },
          "metadata": {
            "tags": []
          }
        }
      ]
    },
    {
      "cell_type": "markdown",
      "metadata": {
        "id": "RRDN-M4zrubU",
        "colab_type": "text"
      },
      "source": [
        "In above plot, we see the CDFs of entropies of Softmax and EDL models trained with the first 5 classes of CIFAR10 dataset and tested with the last 5 classes (out-of-distribution). Again we observe that EDL yields higher entropy for these instances"
      ]
    },
    {
      "cell_type": "markdown",
      "metadata": {
        "id": "uPClEJC9bBfI",
        "colab_type": "text"
      },
      "source": [
        "## Acknowledgments\n",
        "Our work and code benefit from this existing works, which we are very grateful.\n",
        "\n",
        "EDL : https://github.com/atilberk/evidential-deep-learning-to-quantify-classification-uncertainty"
      ]
    }
  ]
}